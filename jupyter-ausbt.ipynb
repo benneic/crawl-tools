{
 "cells": [
  {
   "cell_type": "code",
   "execution_count": 3,
   "metadata": {},
   "outputs": [],
   "source": [
    "%load_ext google.cloud.bigquery\n",
    "\n",
    "%matplotlib inline\n",
    "%config InlineBackend.figure_format = 'svg'"
   ]
  },
  {
   "cell_type": "code",
   "execution_count": 11,
   "metadata": {
    "scrolled": true
   },
   "outputs": [
    {
     "data": {
      "text/html": [
       "<div>\n",
       "<style scoped>\n",
       "    .dataframe tbody tr th:only-of-type {\n",
       "        vertical-align: middle;\n",
       "    }\n",
       "\n",
       "    .dataframe tbody tr th {\n",
       "        vertical-align: top;\n",
       "    }\n",
       "\n",
       "    .dataframe thead th {\n",
       "        text-align: right;\n",
       "    }\n",
       "</style>\n",
       "<table border=\"1\" class=\"dataframe\">\n",
       "  <thead>\n",
       "    <tr style=\"text-align: right;\">\n",
       "      <th></th>\n",
       "      <th>Status</th>\n",
       "      <th>N</th>\n",
       "    </tr>\n",
       "  </thead>\n",
       "  <tbody>\n",
       "    <tr>\n",
       "      <th>0</th>\n",
       "      <td>200 OK</td>\n",
       "      <td>2490</td>\n",
       "    </tr>\n",
       "    <tr>\n",
       "      <th>1</th>\n",
       "      <td>301 Moved Permanently</td>\n",
       "      <td>62</td>\n",
       "    </tr>\n",
       "    <tr>\n",
       "      <th>2</th>\n",
       "      <td>302 Found</td>\n",
       "      <td>2</td>\n",
       "    </tr>\n",
       "  </tbody>\n",
       "</table>\n",
       "</div>"
      ],
      "text/plain": [
       "                  Status     N\n",
       "0                 200 OK  2490\n",
       "1  301 Moved Permanently    62\n",
       "2              302 Found     2"
      ]
     },
     "execution_count": 11,
     "metadata": {},
     "output_type": "execute_result"
    }
   ],
   "source": [
    "%%bigquery\n",
    "SELECT Status,\n",
    "       COUNT(*) AS N\n",
    "FROM crawl.ausbt_19_07_02T15_01\n",
    "GROUP BY Status\n",
    "ORDER BY Status ASC"
   ]
  },
  {
   "cell_type": "code",
   "execution_count": 7,
   "metadata": {},
   "outputs": [
    {
     "data": {
      "text/html": [
       "<div>\n",
       "<style scoped>\n",
       "    .dataframe tbody tr th:only-of-type {\n",
       "        vertical-align: middle;\n",
       "    }\n",
       "\n",
       "    .dataframe tbody tr th {\n",
       "        vertical-align: top;\n",
       "    }\n",
       "\n",
       "    .dataframe thead th {\n",
       "        text-align: right;\n",
       "    }\n",
       "</style>\n",
       "<table border=\"1\" class=\"dataframe\">\n",
       "  <thead>\n",
       "    <tr style=\"text-align: right;\">\n",
       "      <th></th>\n",
       "      <th>BodyTextHash</th>\n",
       "      <th>Instances</th>\n",
       "      <th>N</th>\n",
       "    </tr>\n",
       "  </thead>\n",
       "  <tbody>\n",
       "    <tr>\n",
       "      <th>0</th>\n",
       "      <td>AJJ5GD0eNBJEgIM5oc2/6I78YFG3rfJniIez31kUsSbmH6...</td>\n",
       "      <td>[https://www.ausbt.com.au/community/topics/24/...</td>\n",
       "      <td>1</td>\n",
       "    </tr>\n",
       "    <tr>\n",
       "      <th>1</th>\n",
       "      <td>RtVbPzxzTLHYOLdKkMipm2GEBrZxLT1sfpZi6ISACKVbHw...</td>\n",
       "      <td>[https://www.ausbt.com.au/community/topics/22/...</td>\n",
       "      <td>1</td>\n",
       "    </tr>\n",
       "    <tr>\n",
       "      <th>2</th>\n",
       "      <td>PHD8TSoR9Ggi+DSPqRIBXqWN828kHwBGB0DppBeg2p0g+7...</td>\n",
       "      <td>[https://www.ausbt.com.au/community/topics/25/...</td>\n",
       "      <td>1</td>\n",
       "    </tr>\n",
       "    <tr>\n",
       "      <th>3</th>\n",
       "      <td>HSCeznjulnOi/qthIjtDEFN8DJqO5hPXFIostg650D+bsE...</td>\n",
       "      <td>[https://www.ausbt.com.au/community/topics/21/...</td>\n",
       "      <td>1</td>\n",
       "    </tr>\n",
       "    <tr>\n",
       "      <th>4</th>\n",
       "      <td>Ue9z031+4H9NnGb4a+SYF3qSpZaFH9aDyo6rZJ8CMCq/bs...</td>\n",
       "      <td>[https://www.ausbt.com.au/community/topics/16/...</td>\n",
       "      <td>1</td>\n",
       "    </tr>\n",
       "  </tbody>\n",
       "</table>\n",
       "</div>"
      ],
      "text/plain": [
       "                                        BodyTextHash  \\\n",
       "0  AJJ5GD0eNBJEgIM5oc2/6I78YFG3rfJniIez31kUsSbmH6...   \n",
       "1  RtVbPzxzTLHYOLdKkMipm2GEBrZxLT1sfpZi6ISACKVbHw...   \n",
       "2  PHD8TSoR9Ggi+DSPqRIBXqWN828kHwBGB0DppBeg2p0g+7...   \n",
       "3  HSCeznjulnOi/qthIjtDEFN8DJqO5hPXFIostg650D+bsE...   \n",
       "4  Ue9z031+4H9NnGb4a+SYF3qSpZaFH9aDyo6rZJ8CMCq/bs...   \n",
       "\n",
       "                                           Instances  N  \n",
       "0  [https://www.ausbt.com.au/community/topics/24/...  1  \n",
       "1  [https://www.ausbt.com.au/community/topics/22/...  1  \n",
       "2  [https://www.ausbt.com.au/community/topics/25/...  1  \n",
       "3  [https://www.ausbt.com.au/community/topics/21/...  1  \n",
       "4  [https://www.ausbt.com.au/community/topics/16/...  1  "
      ]
     },
     "execution_count": 7,
     "metadata": {},
     "output_type": "execute_result"
    }
   ],
   "source": [
    "%%bigquery\n",
    "SELECT BodyTextHash,\n",
    "       ARRAY_AGG(Address.Full) AS Instances,\n",
    "       COUNT(*) AS N\n",
    "FROM crawl.ausbt_19_07_02T15_01\n",
    "WHERE BodyTextHash IS NOT NULL AND\n",
    "      StatusCode = 200\n",
    "GROUP BY BodyTextHash\n",
    "ORDER BY N DESC\n",
    "LIMIT 5"
   ]
  },
  {
   "cell_type": "code",
   "execution_count": 12,
   "metadata": {},
   "outputs": [
    {
     "data": {
      "text/html": [
       "<div>\n",
       "<style scoped>\n",
       "    .dataframe tbody tr th:only-of-type {\n",
       "        vertical-align: middle;\n",
       "    }\n",
       "\n",
       "    .dataframe tbody tr th {\n",
       "        vertical-align: top;\n",
       "    }\n",
       "\n",
       "    .dataframe thead th {\n",
       "        text-align: right;\n",
       "    }\n",
       "</style>\n",
       "<table border=\"1\" class=\"dataframe\">\n",
       "  <thead>\n",
       "    <tr style=\"text-align: right;\">\n",
       "      <th></th>\n",
       "      <th>Path</th>\n",
       "    </tr>\n",
       "  </thead>\n",
       "  <tbody>\n",
       "    <tr>\n",
       "      <th>0</th>\n",
       "      <td>/community/view/13/8686/business-class:-qantas...</td>\n",
       "    </tr>\n",
       "    <tr>\n",
       "      <th>1</th>\n",
       "      <td>/community/view/42/8549/qantas-bid-upgrades:-d...</td>\n",
       "    </tr>\n",
       "    <tr>\n",
       "      <th>2</th>\n",
       "      <td>/community/view/13/8545/flying-air-canada-as-v...</td>\n",
       "    </tr>\n",
       "    <tr>\n",
       "      <th>3</th>\n",
       "      <td>/community/view/59/8340/singapore-airlines-cas...</td>\n",
       "    </tr>\n",
       "    <tr>\n",
       "      <th>4</th>\n",
       "      <td>/community/view/18/8351/va6-los-angeles-to-bri...</td>\n",
       "    </tr>\n",
       "    <tr>\n",
       "      <th>5</th>\n",
       "      <td>/community/view/17/8408/asia-miles:-success-wi...</td>\n",
       "    </tr>\n",
       "    <tr>\n",
       "      <th>6</th>\n",
       "      <td>/community/view/42/8735/sc-earn-rate-disparity...</td>\n",
       "    </tr>\n",
       "    <tr>\n",
       "      <th>7</th>\n",
       "      <td>/community/view/30/8584/cathay-pacific-or-sing...</td>\n",
       "    </tr>\n",
       "    <tr>\n",
       "      <th>8</th>\n",
       "      <td>/community/view/14/8726/which-is-less-difficul...</td>\n",
       "    </tr>\n",
       "    <tr>\n",
       "      <th>9</th>\n",
       "      <td>/community/view/42/8484/qantas-flights-to-new-...</td>\n",
       "    </tr>\n",
       "  </tbody>\n",
       "</table>\n",
       "</div>"
      ],
      "text/plain": [
       "                                                Path\n",
       "0  /community/view/13/8686/business-class:-qantas...\n",
       "1  /community/view/42/8549/qantas-bid-upgrades:-d...\n",
       "2  /community/view/13/8545/flying-air-canada-as-v...\n",
       "3  /community/view/59/8340/singapore-airlines-cas...\n",
       "4  /community/view/18/8351/va6-los-angeles-to-bri...\n",
       "5  /community/view/17/8408/asia-miles:-success-wi...\n",
       "6  /community/view/42/8735/sc-earn-rate-disparity...\n",
       "7  /community/view/30/8584/cathay-pacific-or-sing...\n",
       "8  /community/view/14/8726/which-is-less-difficul...\n",
       "9  /community/view/42/8484/qantas-flights-to-new-..."
      ]
     },
     "execution_count": 12,
     "metadata": {},
     "output_type": "execute_result"
    }
   ],
   "source": [
    "%%bigquery\n",
    "SELECT Address.Path\n",
    "FROM crawl.ausbt_19_07_02T15_01\n",
    "WHERE StatusCode = 301\n",
    "LIMIT 10"
   ]
  },
  {
   "cell_type": "code",
   "execution_count": null,
   "metadata": {},
   "outputs": [],
   "source": []
  }
 ],
 "metadata": {
  "kernelspec": {
   "display_name": "Python 3",
   "language": "python",
   "name": "python3"
  },
  "language_info": {
   "codemirror_mode": {
    "name": "ipython",
    "version": 3
   },
   "file_extension": ".py",
   "mimetype": "text/x-python",
   "name": "python",
   "nbconvert_exporter": "python",
   "pygments_lexer": "ipython3",
   "version": "3.7.3"
  }
 },
 "nbformat": 4,
 "nbformat_minor": 2
}
